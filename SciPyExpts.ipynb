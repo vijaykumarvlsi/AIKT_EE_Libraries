{
  "nbformat": 4,
  "nbformat_minor": 0,
  "metadata": {
    "colab": {
      "provenance": [],
      "collapsed_sections": [
        "UAKP_0bic_jB",
        "yakKy3GycR2_"
      ],
      "authorship_tag": "ABX9TyO3vCsw7krWmcFH1C+/7o/y",
      "include_colab_link": true
    },
    "kernelspec": {
      "name": "python3",
      "display_name": "Python 3"
    },
    "language_info": {
      "name": "python"
    }
  },
  "cells": [
    {
      "cell_type": "markdown",
      "metadata": {
        "id": "view-in-github",
        "colab_type": "text"
      },
      "source": [
        "<a href=\"https://colab.research.google.com/github/vjkr/AIKT_EE_Libraries/blob/main/SciPyExpts.ipynb\" target=\"_parent\"><img src=\"https://colab.research.google.com/assets/colab-badge.svg\" alt=\"Open In Colab\"/></a>"
      ]
    },
    {
      "cell_type": "markdown",
      "source": [
        "# Expt 1: Finding area under a curve"
      ],
      "metadata": {
        "id": "UAKP_0bic_jB"
      }
    },
    {
      "cell_type": "code",
      "source": [
        "import numpy as np\n",
        "from scipy.integrate import quad\n",
        "\n",
        "# Define the sine wave function\n",
        "def sine_wave(x):\n",
        "    return np.cos(x)\n",
        "\n",
        "# Integrate the sine wave function over the interval [0, pi]\n",
        "area_under_sine, _ = quad(sine_wave, 0, np.pi)\n",
        "\n",
        "print(\"Area under the sine wave:\", area_under_sine)\n"
      ],
      "metadata": {
        "id": "NNTcXoM7dzdj",
        "outputId": "c889a7fc-071f-42c8-f8da-6307fdf58ede",
        "colab": {
          "base_uri": "https://localhost:8080/"
        }
      },
      "execution_count": null,
      "outputs": [
        {
          "output_type": "stream",
          "name": "stdout",
          "text": [
            "Area under the sine wave: 4.9225526349740854e-17\n"
          ]
        }
      ]
    },
    {
      "cell_type": "markdown",
      "source": [
        "# Expt 2: Statistical Analysis of Energy Readings\n"
      ],
      "metadata": {
        "id": "yakKy3GycR2_"
      }
    },
    {
      "cell_type": "code",
      "source": [
        "# @title\n",
        "import numpy as np\n",
        "from scipy import stats\n",
        "\n",
        "# Generate 10 random energy readings\n",
        "energy_readings = np.random.normal(loc=100, scale=10, size=10)\n",
        "\n",
        "# Calculate basic statistics\n",
        "mean = np.mean(energy_readings)\n",
        "median = np.median(energy_readings)\n",
        "std_dev = np.std(energy_readings)\n",
        "min_value = np.min(energy_readings)\n",
        "max_value = np.max(energy_readings)\n",
        "\n",
        "# Perform a t-test to compare the mean with a hypothetical value\n",
        "t_statistic, p_value = stats.ttest_1samp(energy_readings, 100)\n",
        "\n",
        "# Print the results\n",
        "print(\"Energy Readings:\", energy_readings)\n",
        "print(\"Mean:\", mean)\n",
        "print(\"Median:\", median)\n",
        "print(\"Standard Deviation:\", std_dev)\n",
        "print(\"Min Value:\", min_value)\n",
        "print(\"Max Value:\", max_value)\n",
        "print(\"T-statistic:\", t_statistic)\n",
        "print(\"P-value:\", p_value)\n"
      ],
      "metadata": {
        "id": "LgzniJi_Z1mb",
        "outputId": "09c4d1f5-155f-42b2-e1f6-10a91c46c061",
        "colab": {
          "base_uri": "https://localhost:8080/"
        }
      },
      "execution_count": null,
      "outputs": [
        {
          "output_type": "stream",
          "name": "stdout",
          "text": [
            "Energy Readings: [108.92312672 110.30146141  92.82165707  90.47127987 106.37975265\n",
            " 106.78626953  94.25058554 112.47907969 104.94148918  97.15329806]\n",
            "Mean: 102.45079997177352\n",
            "Median: 105.66062091267358\n",
            "Standard Deviation: 7.589882272654621\n",
            "Min Value: 90.47127986688375\n",
            "Max Value: 112.47907969245378\n",
            "T-statistic: 0.9687106665422625\n",
            "P-value: 0.3579998484563345\n"
          ]
        }
      ]
    }
  ]
}